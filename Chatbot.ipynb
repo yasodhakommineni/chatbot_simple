{
 "cells": [
  {
   "cell_type": "code",
   "execution_count": 11,
   "metadata": {},
   "outputs": [
    {
     "name": "stdin",
     "output_type": "stream",
     "text": [
      "Chatbot: How may I address you?\n",
      "You:  yash\n",
      "Chatbot: Hello, yash, I am ChatBot.\n",
      "You:  hi\n",
      "Chatbot: Can I help you?\n",
      "You:  hi\n",
      "Chatbot: Hello!\n",
      "You:  hj\n",
      "Chatbot: I'm sorry, I didn't understand that.\n",
      "You:  what is your name\n",
      "Chatbot: I'm a simple Chatbot.\n",
      "You:  how are you\n",
      "Chatbot: I'm fine, how about you?\n",
      "You:  exit\n"
     ]
    },
    {
     "name": "stdout",
     "output_type": "stream",
     "text": [
      "Chatbot: Ok, goodbye! Have a nice day!\n"
     ]
    }
   ],
   "source": [
    "import random\n",
    "import re\n",
    "\n",
    "class RuleBot:\n",
    "    # Potential negative responses\n",
    "    negative_responses = (\"no\", \"nope\", \"nah\", \"sorry\", \"not\", \"nothing\", \"not yet\", \"never\")\n",
    "    \n",
    "    # Farewell commands\n",
    "    farewell_commands = (\"Okay Bye\", \"exit\", \"finish\", \"Bye\", \"Have a nice day\", \"goodbye\", \"see you later\", \"quit\")\n",
    "    \n",
    "    # Random questions about Nexus\n",
    "    random_responses = (\n",
    "        \"Chatbot: Can I help you?\",\n",
    "        \"Chatbot: You can ask your query\",\n",
    "    )\n",
    "\n",
    "    def greeting(self):\n",
    "        # Get user's name\n",
    "        self.name = input(\"Chatbot: How may I address you?\\n\" + \"You: \")\n",
    "        response_to_greeting = input(f\"Chatbot: Hello, {self.name}, I am ChatBot.\\n\" +  \"You: \")\n",
    "        if response_to_greeting.lower() in self.negative_responses:\n",
    "            print(\"Chatbot: Ok, goodbye! Have a nice day!\")\n",
    "            return\n",
    "        self.chat()\n",
    "\n",
    "    def farewell(self, reply):\n",
    "        # Check if the user's reply is a farewell command\n",
    "        for command in self.farewell_commands:\n",
    "            if reply.lower() == command.lower():\n",
    "                print(\"Chatbot: Ok, goodbye! Have a nice day!\")\n",
    "                return True\n",
    "\n",
    "    def chat(self):\n",
    "        # Start the conversation loop\n",
    "        reply = input(random.choice(self.random_responses) + \"\\nYou: \").lower()\n",
    "        while not self.farewell(reply):\n",
    "            reply = input(self.match_reply(reply) + \"\\nYou: \").lower()\n",
    "\n",
    "    def match_reply(self, reply):\n",
    "        # Check user's input against defined patterns\n",
    "        for pattern in patterns:\n",
    "            if re.search(pattern[\"pattern\"], reply, re.IGNORECASE):\n",
    "                return \"Chatbot: \" + random.choice(pattern[\"responses\"])\n",
    "    \n",
    "        # If no pattern matched, check for farewell command\n",
    "        if self.farewell(reply):\n",
    "            return None\n",
    "    \n",
    "        return \"Chatbot: I'm sorry, I didn't understand that.\"\n",
    "\n",
    "# Define conversation patterns with corresponding responses\n",
    "patterns = [\n",
    "    {\"pattern\": r\"hello|hi|hey\", \"responses\": [\"Hello!\", \"Hi there!\", \"Hey!\"]},\n",
    "    {\"pattern\": r\"yes|yup|yaa\", \"responses\": [\"How can I help you?\"]},\n",
    "    {\"pattern\": r\"internship|intern\", \"responses\": [\"This is a three-month unpaid internship provided by Nexus Software. It is for freshers to get firsthand industry experience.\"]},\n",
    "    {\"pattern\": r\"how are you\", \"responses\": [\"I'm doing well, thank you!\", \"I'm fine, how about you?\"]},\n",
    "    {\"pattern\": r\"I am fine.\", \"responses\": [\"Nice to hear that!!\", \"How nice is that!\", \"wow!! great\"]},\n",
    "    {\"pattern\": r\"what is your name\", \"responses\": [\"I'm a simple Chatbot.\", \"You can call me ChatBot.\"]},\n",
    "    {\"pattern\": r\"what do you do Chatboot?\", \"responses\": [\"I am here to help you.\"]},\n",
    "    {\"pattern\": r\"bye|goodbye\", \"responses\": [\"Goodbye!\", \"See you later!\", \"Bye!\"]},\n",
    "    {\"pattern\": r\"thankyou|thanks|okay thank you\", \"responses\": [\"Your welcome!\", \"No problem\", \"I am glad I could help!\"]},\n",
    "    {\"pattern\": r\"nexus\", \"responses\": [\"Nexus is a premier private software company dedicated to revolutionizing E-learning platforms. As leaders in the field, Nexus seamlessly combines innovative technology with a commitment to private learning, ensuring a dynamic and personalized educational experience for all.\"]}\n",
    "]\n",
    "\n",
    "# Create an instance of RuleBot and start the conversation\n",
    "Chatbot = RuleBot()\n",
    "Chatbot.greeting()\n"
   ]
  },
  {
   "cell_type": "code",
   "execution_count": null,
   "metadata": {},
   "outputs": [],
   "source": []
  }
 ],
 "metadata": {
  "colab": {
   "provenance": []
  },
  "kernelspec": {
   "display_name": "Python 3 (ipykernel)",
   "language": "python",
   "name": "python3"
  },
  "language_info": {
   "codemirror_mode": {
    "name": "ipython",
    "version": 3
   },
   "file_extension": ".py",
   "mimetype": "text/x-python",
   "name": "python",
   "nbconvert_exporter": "python",
   "pygments_lexer": "ipython3",
   "version": "3.12.1"
  }
 },
 "nbformat": 4,
 "nbformat_minor": 4
}
